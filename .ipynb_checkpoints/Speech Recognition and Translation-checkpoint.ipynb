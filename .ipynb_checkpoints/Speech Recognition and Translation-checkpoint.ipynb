{
 "cells": [
  {
   "cell_type": "code",
   "execution_count": 1,
   "id": "6b3526d3",
   "metadata": {},
   "outputs": [
    {
     "name": "stdout",
     "output_type": "stream",
     "text": [
      "Current working directory: C:\\Users\\Aswinth\\Desktop\\Model\n"
     ]
    }
   ],
   "source": [
    "import os\n",
    "print(\"Current working directory:\", os.getcwd())"
   ]
  },
  {
   "cell_type": "code",
   "execution_count": 2,
   "id": "67aac9f6",
   "metadata": {},
   "outputs": [
    {
     "name": "stdout",
     "output_type": "stream",
     "text": [
      "✅ File exists: True\n"
     ]
    }
   ],
   "source": [
    "audio_file = \"harvard.wav\"\n",
    "print(\"✅ File exists:\", os.path.exists(audio_file))"
   ]
  },
  {
   "cell_type": "code",
   "execution_count": 3,
   "id": "d6b6eab0",
   "metadata": {},
   "outputs": [],
   "source": [
    "import os\n",
    "os.environ[\"USE_TF\"] = \"0\""
   ]
  },
  {
   "cell_type": "code",
   "execution_count": 4,
   "id": "f8599c69",
   "metadata": {},
   "outputs": [
    {
     "name": "stdout",
     "output_type": "stream",
     "text": [
      "Collecting numpy==1.24.4\n",
      "  Downloading numpy-1.24.4-cp39-cp39-win_amd64.whl (14.9 MB)\n",
      "Installing collected packages: numpy\n",
      "Successfully installed numpy-1.24.4\n"
     ]
    },
    {
     "name": "stderr",
     "output_type": "stream",
     "text": [
      "ERROR: pip's dependency resolver does not currently take into account all the packages that are installed. This behaviour is the source of the following dependency conflicts.\n",
      "daal4py 2021.3.0 requires daal==2021.2.3, which is not installed.\n",
      "scipy 1.7.1 requires numpy<1.23.0,>=1.16.5, but you have numpy 1.24.4 which is incompatible.\n",
      "numba 0.54.1 requires numpy<1.21,>=1.17, but you have numpy 1.24.4 which is incompatible.\n"
     ]
    }
   ],
   "source": [
    "!pip install numpy==1.24.4 --no-cache-dir"
   ]
  },
  {
   "cell_type": "code",
   "execution_count": 5,
   "id": "ae1b08d3",
   "metadata": {},
   "outputs": [
    {
     "name": "stdout",
     "output_type": "stream",
     "text": [
      "1.24.4\n"
     ]
    }
   ],
   "source": [
    "import numpy\n",
    "print(numpy.__version__)\n"
   ]
  },
  {
   "cell_type": "code",
   "execution_count": 6,
   "id": "30dca8ed",
   "metadata": {},
   "outputs": [
    {
     "name": "stderr",
     "output_type": "stream",
     "text": [
      "C:\\Users\\Aswinth\\Documents\\conda\\lib\\site-packages\\torch\\utils\\_pytree.py:185: FutureWarning: optree is installed but the version is too old to support PyTorch Dynamo in C++ pytree. C++ pytree support is disabled. Please consider upgrading optree using `python3 -m pip install --upgrade 'optree>=0.13.0'`.\n",
      "  warnings.warn(\n",
      "C:\\Users\\Aswinth\\Documents\\conda\\lib\\site-packages\\scipy\\__init__.py:146: UserWarning: A NumPy version >=1.16.5 and <1.23.0 is required for this version of SciPy (detected version 1.24.4\n",
      "  warnings.warn(f\"A NumPy version >={np_minversion} and <{np_maxversion}\"\n"
     ]
    }
   ],
   "source": [
    "from transformers import pipeline, MarianMTModel, MarianTokenizer"
   ]
  },
  {
   "cell_type": "code",
   "execution_count": 7,
   "id": "257228a8",
   "metadata": {},
   "outputs": [],
   "source": [
    "from IPython.display import Audio"
   ]
  },
  {
   "cell_type": "code",
   "execution_count": 22,
   "id": "097825de",
   "metadata": {},
   "outputs": [],
   "source": [
    "def transcribe_audio(audio_path):\n",
    "    print(\"🔊 Transcribing...\")\n",
    "    recognizer = pipeline(\"automatic-speech-recognition\", model=\"openai/whisper-small\")\n",
    "    result = recognizer(audio_path)\n",
    "    print(\"📝 Transcribed Text:\", result[\"text\"])\n",
    "    return result[\"text\"]"
   ]
  },
  {
   "cell_type": "code",
   "execution_count": 35,
   "id": "091a6bcb",
   "metadata": {},
   "outputs": [],
   "source": [
    "def translate_text(text, target_lang=\"fr\"):\n",
    "    print(f\"🌍 Translating to {target_lang.upper()}...\")\n",
    "\n",
    "    model_map = {\n",
    "    \"fr\": \"Helsinki-NLP/opus-mt-en-fr\",\n",
    "    \"es\": \"Helsinki-NLP/opus-mt-en-es\",\n",
    "    \"de\": \"Helsinki-NLP/opus-mt-en-de\",\n",
    "    \"it\": \"Helsinki-NLP/opus-mt-en-it\",\n",
    "    \"hi\": \"Helsinki-NLP/opus-mt-en-hi\",\n",
    "    \"ru\": \"Helsinki-NLP/opus-mt-en-ru\",\n",
    "    \"zh\": \"Helsinki-NLP/opus-mt-en-zh\",\n",
    "    \"ar\": \"Helsinki-NLP/opus-mt-en-ar\",\n",
    "    \"ta\": \"gsarti/opus-mt-en-ta\", \n",
    "}\n",
    "\n",
    "\n",
    "\n",
    "    if target_lang not in model_map:\n",
    "        raise ValueError(f\"No model available for language code: {target_lang}\")\n",
    "\n",
    "    model_name = model_map[target_lang]\n",
    "    tokenizer = MarianTokenizer.from_pretrained(model_name)\n",
    "    model = MarianMTModel.from_pretrained(model_name)\n",
    "\n",
    "    encoded = tokenizer([text], return_tensors=\"pt\", padding=True)\n",
    "    translated = model.generate(**encoded)\n",
    "    translated_text = tokenizer.batch_decode(translated, skip_special_tokens=True)[0]\n",
    "\n",
    "    print(\"🌐 Translated Text:\", translated_text)\n",
    "    return translated_text\n"
   ]
  },
  {
   "cell_type": "code",
   "execution_count": 10,
   "id": "d4418a43",
   "metadata": {},
   "outputs": [
    {
     "name": "stdout",
     "output_type": "stream",
     "text": [
      "🔊 Transcribing...\n"
     ]
    },
    {
     "name": "stderr",
     "output_type": "stream",
     "text": [
      "Device set to use cpu\n",
      "C:\\Users\\Aswinth\\Documents\\conda\\lib\\site-packages\\transformers\\models\\whisper\\generation_whisper.py:573: FutureWarning: The input name `inputs` is deprecated. Please make sure to use `input_features` instead.\n",
      "  warnings.warn(\n",
      "Due to a bug fix in https://github.com/huggingface/transformers/pull/28687 transcription using a multilingual Whisper will default to language detection followed by transcription instead of translation to English.This might be a breaking change for your use case. If you want to instead always translate your audio to English, make sure to pass `language='en'`.\n"
     ]
    },
    {
     "name": "stdout",
     "output_type": "stream",
     "text": [
      "📝 Transcribed Text:  The stale smell of old beer lingers. It takes heat to bring out the odor. A cold dip restores health and zest. A salt pickle tastes fine with ham. Tacos al pastor are my favorite. A zestful food is the hot cross bun.\n",
      "🌍 Translating to FR...\n"
     ]
    },
    {
     "name": "stderr",
     "output_type": "stream",
     "text": [
      "C:\\Users\\Aswinth\\Documents\\conda\\lib\\site-packages\\transformers\\models\\marian\\tokenization_marian.py:175: UserWarning: Recommended: pip install sacremoses.\n",
      "  warnings.warn(\"Recommended: pip install sacremoses.\")\n"
     ]
    },
    {
     "name": "stdout",
     "output_type": "stream",
     "text": [
      "🌐 Translated Text: Il faut de la chaleur pour faire ressortir l'odeur. Une trempette froide restaure la santé et le zeste. Un cornichon de sel goûte bien avec le jambon. Tacos al pasteur sont mes préférés. Une nourriture zeste est le pain de croix chaud.\n",
      "\n",
      "✅ Final Output in French:\n",
      "Il faut de la chaleur pour faire ressortir l'odeur. Une trempette froide restaure la santé et le zeste. Un cornichon de sel goûte bien avec le jambon. Tacos al pasteur sont mes préférés. Une nourriture zeste est le pain de croix chaud.\n"
     ]
    }
   ],
   "source": [
    "# Step 1: Transcribe the uploaded audio\n",
    "transcribed_text = transcribe_audio(audio_file)\n",
    "\n",
    "# Step 2: Translate the text to your desired language\n",
    "translated_output = translate_text(transcribed_text, target_lang=\"fr\")  \n",
    "\n",
    "# Final Output\n",
    "print(\"\\n✅ Final Output in French:\")\n",
    "print(translated_output)\n"
   ]
  },
  {
   "cell_type": "code",
   "execution_count": 11,
   "id": "af9d2051",
   "metadata": {},
   "outputs": [
    {
     "name": "stdout",
     "output_type": "stream",
     "text": [
      "🔊 Transcribing...\n"
     ]
    },
    {
     "name": "stderr",
     "output_type": "stream",
     "text": [
      "Device set to use cpu\n"
     ]
    },
    {
     "name": "stdout",
     "output_type": "stream",
     "text": [
      "📝 Transcribed Text:  The stale smell of old beer lingers. It takes heat to bring out the odor. A cold dip restores health and zest. A salt pickle tastes fine with ham. Tacos al pastor are my favorite. A zestful food is the hot cross bun.\n",
      "🌍 Translating to HI...\n",
      "🌐 Translated Text: पुरानी बियर की गंध मेरे मनपसंद होती है. यह गंध बाहर लाने के लिए गर्मी लेती है. एक ठंडे पानी से स्वास्थ्य और zeest. एक नमक का स्वाद. Tormors के साथ अच्छा स्वाद मेरी पसंदीदा जगह है. एक गर्म क्रूस का भोजन है.\n",
      "\n",
      "✅ Final Output in Hindi:\n",
      "पुरानी बियर की गंध मेरे मनपसंद होती है. यह गंध बाहर लाने के लिए गर्मी लेती है. एक ठंडे पानी से स्वास्थ्य और zeest. एक नमक का स्वाद. Tormors के साथ अच्छा स्वाद मेरी पसंदीदा जगह है. एक गर्म क्रूस का भोजन है.\n"
     ]
    }
   ],
   "source": [
    "# Step 1: Transcribe the uploaded audio\n",
    "transcribed_text = transcribe_audio(audio_file)\n",
    "\n",
    "# Step 2: Translate the text to your desired language\n",
    "translated_output = translate_text(transcribed_text, target_lang=\"hi\")  \n",
    "\n",
    "# Final Output\n",
    "print(\"\\n✅ Final Output in Hindi:\")\n",
    "print(translated_output)"
   ]
  },
  {
   "cell_type": "code",
   "execution_count": 12,
   "id": "ccf6efb9",
   "metadata": {},
   "outputs": [
    {
     "name": "stdout",
     "output_type": "stream",
     "text": [
      "🔊 Transcribing...\n"
     ]
    },
    {
     "name": "stderr",
     "output_type": "stream",
     "text": [
      "Device set to use cpu\n"
     ]
    },
    {
     "name": "stdout",
     "output_type": "stream",
     "text": [
      "📝 Transcribed Text:  The stale smell of old beer lingers. It takes heat to bring out the odor. A cold dip restores health and zest. A salt pickle tastes fine with ham. Tacos al pastor are my favorite. A zestful food is the hot cross bun.\n",
      "🌍 Translating to ES...\n",
      "🌐 Translated Text: El olor rancio de la cerveza vieja se queda. Se necesita calor para sacar el olor. Un chapuzón frío restaura la salud y la ralladura. Un pepinillo de sal sabe bien con el jamón. Tacos al pastor son mis favoritos. Una comida picante es el pan cruzado caliente.\n",
      "\n",
      "✅ Final Output in Spanish:\n",
      "El olor rancio de la cerveza vieja se queda. Se necesita calor para sacar el olor. Un chapuzón frío restaura la salud y la ralladura. Un pepinillo de sal sabe bien con el jamón. Tacos al pastor son mis favoritos. Una comida picante es el pan cruzado caliente.\n"
     ]
    }
   ],
   "source": [
    "# Step 1: Transcribe the uploaded audio\n",
    "transcribed_text = transcribe_audio(audio_file)\n",
    "\n",
    "# Step 2: Translate the text to your desired language\n",
    "translated_output = translate_text(transcribed_text, target_lang=\"es\")  \n",
    "\n",
    "# Final Output\n",
    "print(\"\\n✅ Final Output in Spanish:\")\n",
    "print(translated_output)"
   ]
  },
  {
   "cell_type": "code",
   "execution_count": 13,
   "id": "34950f7e",
   "metadata": {},
   "outputs": [
    {
     "name": "stdout",
     "output_type": "stream",
     "text": [
      "🔊 Transcribing...\n"
     ]
    },
    {
     "name": "stderr",
     "output_type": "stream",
     "text": [
      "Device set to use cpu\n"
     ]
    },
    {
     "name": "stdout",
     "output_type": "stream",
     "text": [
      "📝 Transcribed Text:  The stale smell of old beer lingers. It takes heat to bring out the odor. A cold dip restores health and zest. A salt pickle tastes fine with ham. Tacos al pastor are my favorite. A zestful food is the hot cross bun.\n",
      "🌍 Translating to DE...\n",
      "🌐 Translated Text: Der abgestandene Geruch von altem Bier verweilt. Es braucht Hitze, um den Geruch hervorzubringen. Ein kaltes Dip stellt Gesundheit und Lust wieder her. Eine Salzgurke schmeckt gut mit Schinken. Tacos al Pastor sind mein Favorit. Ein lustvolles Essen ist das heiße Kreuzbrötchen.\n",
      "\n",
      "✅ Final Output in German:\n",
      "Der abgestandene Geruch von altem Bier verweilt. Es braucht Hitze, um den Geruch hervorzubringen. Ein kaltes Dip stellt Gesundheit und Lust wieder her. Eine Salzgurke schmeckt gut mit Schinken. Tacos al Pastor sind mein Favorit. Ein lustvolles Essen ist das heiße Kreuzbrötchen.\n"
     ]
    }
   ],
   "source": [
    "# Step 1: Transcribe the uploaded audio\n",
    "transcribed_text = transcribe_audio(audio_file)\n",
    "\n",
    "# Step 2: Translate the text to your desired language\n",
    "translated_output = translate_text(transcribed_text, target_lang=\"de\")  \n",
    "\n",
    "# Final Output\n",
    "print(\"\\n✅ Final Output in German:\")\n",
    "print(translated_output)"
   ]
  },
  {
   "cell_type": "code",
   "execution_count": 14,
   "id": "fc7abeec",
   "metadata": {},
   "outputs": [
    {
     "name": "stdout",
     "output_type": "stream",
     "text": [
      "🔊 Transcribing...\n"
     ]
    },
    {
     "name": "stderr",
     "output_type": "stream",
     "text": [
      "Device set to use cpu\n"
     ]
    },
    {
     "name": "stdout",
     "output_type": "stream",
     "text": [
      "📝 Transcribed Text:  The stale smell of old beer lingers. It takes heat to bring out the odor. A cold dip restores health and zest. A salt pickle tastes fine with ham. Tacos al pastor are my favorite. A zestful food is the hot cross bun.\n",
      "🌍 Translating to IT...\n",
      "🌐 Translated Text: Il profumo stantio di vecchia birra indugia. Ci vuole calore per tirare fuori l'odore. Un tuffo freddo ripristina la salute e la scorza. Un sottaceto di sale ha un buon sapore con il prosciutto. I tacos al pastore sono i miei preferiti. Un cibo zesto è il panino caldo croce.\n",
      "\n",
      "✅ Final Output in Italian:\n",
      "Il profumo stantio di vecchia birra indugia. Ci vuole calore per tirare fuori l'odore. Un tuffo freddo ripristina la salute e la scorza. Un sottaceto di sale ha un buon sapore con il prosciutto. I tacos al pastore sono i miei preferiti. Un cibo zesto è il panino caldo croce.\n"
     ]
    }
   ],
   "source": [
    "# Step 1: Transcribe the uploaded audio\n",
    "transcribed_text = transcribe_audio(audio_file)\n",
    "\n",
    "# Step 2: Translate the text to your desired language\n",
    "translated_output = translate_text(transcribed_text, target_lang=\"it\")  \n",
    "\n",
    "# Final Output\n",
    "print(\"\\n✅ Final Output in Italian:\")\n",
    "print(translated_output)"
   ]
  },
  {
   "cell_type": "code",
   "execution_count": 15,
   "id": "aa8980ec",
   "metadata": {},
   "outputs": [
    {
     "name": "stdout",
     "output_type": "stream",
     "text": [
      "🔊 Transcribing...\n"
     ]
    },
    {
     "name": "stderr",
     "output_type": "stream",
     "text": [
      "Device set to use cpu\n"
     ]
    },
    {
     "name": "stdout",
     "output_type": "stream",
     "text": [
      "📝 Transcribed Text:  The stale smell of old beer lingers. It takes heat to bring out the odor. A cold dip restores health and zest. A salt pickle tastes fine with ham. Tacos al pastor are my favorite. A zestful food is the hot cross bun.\n",
      "🌍 Translating to RU...\n",
      "🌐 Translated Text: Запах старого пива задерживается, чтобы выпустить запах, холодный опухоль восстанавливает здоровье и изящность, солёный огурчик вкусит с ветчиной, такос аль-пастор - мой любимый, вкусная еда - это горячий крестовой булочок.\n",
      "\n",
      "✅ Final Output in Russian:\n",
      "Запах старого пива задерживается, чтобы выпустить запах, холодный опухоль восстанавливает здоровье и изящность, солёный огурчик вкусит с ветчиной, такос аль-пастор - мой любимый, вкусная еда - это горячий крестовой булочок.\n"
     ]
    }
   ],
   "source": [
    "# Step 1: Transcribe the uploaded audio\n",
    "transcribed_text = transcribe_audio(audio_file)\n",
    "\n",
    "# Step 2: Translate the text to your desired language\n",
    "translated_output = translate_text(transcribed_text, target_lang=\"ru\")  \n",
    "\n",
    "# Final Output\n",
    "print(\"\\n✅ Final Output in Russian:\")\n",
    "print(translated_output)"
   ]
  },
  {
   "cell_type": "code",
   "execution_count": 16,
   "id": "20b41e5e",
   "metadata": {},
   "outputs": [
    {
     "name": "stdout",
     "output_type": "stream",
     "text": [
      "🔊 Transcribing...\n"
     ]
    },
    {
     "name": "stderr",
     "output_type": "stream",
     "text": [
      "Device set to use cpu\n"
     ]
    },
    {
     "name": "stdout",
     "output_type": "stream",
     "text": [
      "📝 Transcribed Text:  The stale smell of old beer lingers. It takes heat to bring out the odor. A cold dip restores health and zest. A salt pickle tastes fine with ham. Tacos al pastor are my favorite. A zestful food is the hot cross bun.\n",
      "🌍 Translating to ZH...\n",
      "🌐 Translated Text: 旧啤酒的腐烂气味。 它需要热气才能闻出臭味。 冷水能恢复健康和寒冷。 咸咸菜和火腿的味道很好。 我最喜欢塔科斯面条。 美味的食物是热的十字面包。\n",
      "\n",
      "✅ Final Output in Chinese:\n",
      "旧啤酒的腐烂气味。 它需要热气才能闻出臭味。 冷水能恢复健康和寒冷。 咸咸菜和火腿的味道很好。 我最喜欢塔科斯面条。 美味的食物是热的十字面包。\n"
     ]
    }
   ],
   "source": [
    "# Step 1: Transcribe the uploaded audio\n",
    "transcribed_text = transcribe_audio(audio_file)\n",
    "\n",
    "# Step 2: Translate the text to your desired language\n",
    "translated_output = translate_text(transcribed_text, target_lang=\"zh\")  \n",
    "\n",
    "# Final Output\n",
    "print(\"\\n✅ Final Output in Chinese:\")\n",
    "print(translated_output)"
   ]
  },
  {
   "cell_type": "code",
   "execution_count": 17,
   "id": "ff3f9f6d",
   "metadata": {
    "scrolled": true
   },
   "outputs": [
    {
     "name": "stdout",
     "output_type": "stream",
     "text": [
      "🔊 Transcribing...\n"
     ]
    },
    {
     "name": "stderr",
     "output_type": "stream",
     "text": [
      "Device set to use cpu\n"
     ]
    },
    {
     "name": "stdout",
     "output_type": "stream",
     "text": [
      "📝 Transcribed Text:  The stale smell of old beer lingers. It takes heat to bring out the odor. A cold dip restores health and zest. A salt pickle tastes fine with ham. Tacos al pastor are my favorite. A zestful food is the hot cross bun.\n",
      "🌍 Translating to AR...\n",
      "🌐 Translated Text: الرائحه القديمه لبقات البيرة القديمه تحتاج للحرارة لاظهار الرائحه, غمس بارد يستعيد الصحه والزهقه, ملح مخلل مذاقه جيد مع اللحم\n",
      "\n",
      "✅ Final Output in Arabic:\n",
      "الرائحه القديمه لبقات البيرة القديمه تحتاج للحرارة لاظهار الرائحه, غمس بارد يستعيد الصحه والزهقه, ملح مخلل مذاقه جيد مع اللحم\n"
     ]
    }
   ],
   "source": [
    "# Step 1: Transcribe the uploaded audio\n",
    "transcribed_text = transcribe_audio(audio_file)\n",
    "\n",
    "# Step 2: Translate the text to your desired language\n",
    "translated_output = translate_text(transcribed_text, target_lang=\"ar\")  \n",
    "\n",
    "# Final Output\n",
    "print(\"\\n✅ Final Output in Arabic:\")\n",
    "print(translated_output)"
   ]
  },
  {
   "cell_type": "code",
   "execution_count": 45,
   "id": "aefe29c1",
   "metadata": {},
   "outputs": [
    {
     "name": "stdout",
     "output_type": "stream",
     "text": [
      "🔊 Transcribing...\n"
     ]
    },
    {
     "name": "stderr",
     "output_type": "stream",
     "text": [
      "Device set to use cpu\n"
     ]
    },
    {
     "name": "stdout",
     "output_type": "stream",
     "text": [
      "📝 Transcribed Text:  The stale smell of old beer lingers. It takes heat to bring out the odor. A cold dip restores health and zest. A salt pickle tastes fine with ham. Tacos al pastor are my favorite. A zestful food is the hot cross bun.\n",
      "🎤 Transcribed Text:  The stale smell of old beer lingers. It takes heat to bring out the odor. A cold dip restores health and zest. A salt pickle tastes fine with ham. Tacos al pastor are my favorite. A zestful food is the hot cross bun.\n",
      "\n",
      "✅ Final Output in Arabic:\n",
      "பழைய பீர் நீடிக்கிறது.துர்நாற்றத்தை வெளியே கொண்டு வர வெப்பம் தேவை.ஒரு குளிர் டிப் ஆரோக்கியத்தையும் ஆர்வத்தையும் மீட்டெடுக்கிறது.ஒரு உப்பு ஊறுகாய் ஹாமுடன் நன்றாக சுவைக்கிறது.டகோஸ் அல் பாஸ்டர் எனக்கு மிகவும் பிடித்தவர்.ஒரு விரைவான உணவு சூடான குறுக்கு பன்.\n"
     ]
    }
   ],
   "source": [
    "from googletrans import Translator\n",
    "\n",
    "# Step 1: Transcribe the uploaded audio\n",
    "transcribed_text = transcribe_audio(audio_file)\n",
    "print(\"🎤 Transcribed Text:\", transcribed_text)\n",
    "\n",
    "# Step 2: Translate the text to your desired language\n",
    "translator = Translator()\n",
    "translated_output = translator.translate(transcribed_text, src=\"en\", dest=\"ta\").text  # You can replace 'ar' with 'ta' or others\n",
    "\n",
    "# Final Output\n",
    "print(\"\\n✅ Final Output in Arabic:\")\n",
    "print(translated_output)\n"
   ]
  },
  {
   "cell_type": "code",
   "execution_count": 46,
   "id": "d313047f",
   "metadata": {},
   "outputs": [
    {
     "name": "stdout",
     "output_type": "stream",
     "text": [
      "🔊 Transcribing...\n"
     ]
    },
    {
     "name": "stderr",
     "output_type": "stream",
     "text": [
      "Device set to use cpu\n"
     ]
    },
    {
     "name": "stdout",
     "output_type": "stream",
     "text": [
      "📝 Transcribed Text:  The stale smell of old beer lingers. It takes heat to bring out the odor. A cold dip restores health and zest. A salt pickle tastes fine with ham. Tacos al pastor are my favorite. A zestful food is the hot cross bun.\n",
      "🎤 Transcribed Text:  The stale smell of old beer lingers. It takes heat to bring out the odor. A cold dip restores health and zest. A salt pickle tastes fine with ham. Tacos al pastor are my favorite. A zestful food is the hot cross bun.\n",
      "\n",
      "✅ Final Output in Portuguese:\n",
      "O cheiro obsoleto de cerveja velha permanece.É preciso calor para destacar o odor.Um mergulho a frio restaura a saúde e o entusiasmo.Um picles de sal é bom com presunto.Tacos Al Pastor são os meus favoritos.Um alimento entusiasmado é o pão de cruz quente.\n"
     ]
    }
   ],
   "source": [
    "from googletrans import Translator\n",
    "\n",
    "# Step 1: Transcribe the uploaded audio\n",
    "transcribed_text = transcribe_audio(audio_file)\n",
    "print(\"🎤 Transcribed Text:\", transcribed_text)\n",
    "\n",
    "# Step 2: Translate the text to Portuguese\n",
    "translator = Translator()\n",
    "translated_output = translator.translate(transcribed_text, src=\"en\", dest=\"pt\").text\n",
    "\n",
    "# Final Output\n",
    "print(\"\\n✅ Final Output in Portuguese:\")\n",
    "print(translated_output)\n"
   ]
  },
  {
   "cell_type": "code",
   "execution_count": 47,
   "id": "637bc2f6",
   "metadata": {},
   "outputs": [
    {
     "name": "stdout",
     "output_type": "stream",
     "text": [
      "🔊 Transcribing...\n"
     ]
    },
    {
     "name": "stderr",
     "output_type": "stream",
     "text": [
      "Device set to use cpu\n"
     ]
    },
    {
     "name": "stdout",
     "output_type": "stream",
     "text": [
      "📝 Transcribed Text:  The stale smell of old beer lingers. It takes heat to bring out the odor. A cold dip restores health and zest. A salt pickle tastes fine with ham. Tacos al pastor are my favorite. A zestful food is the hot cross bun.\n",
      "🎤 Transcribed Text:  The stale smell of old beer lingers. It takes heat to bring out the odor. A cold dip restores health and zest. A salt pickle tastes fine with ham. Tacos al pastor are my favorite. A zestful food is the hot cross bun.\n",
      "\n",
      "✅ Final Output in Japanese:\n",
      "古いビールが残る古い匂い。臭いを引き出すのに熱がかかります。コールドディップは健康と熱意を回復します。塩漬物はハムで元気です。タコス・アルの牧師が私のお気に入りです。熱心な食べ物は熱いクロスパンです。\n"
     ]
    }
   ],
   "source": [
    "from googletrans import Translator\n",
    "\n",
    "# Step 1: Transcribe the uploaded audio\n",
    "transcribed_text = transcribe_audio(audio_file)\n",
    "print(\"🎤 Transcribed Text:\", transcribed_text)\n",
    "\n",
    "# Step 2: Translate the text to Japanese\n",
    "translator = Translator()\n",
    "translated_output = translator.translate(transcribed_text, src=\"en\", dest=\"ja\").text\n",
    "\n",
    "# Final Output\n",
    "print(\"\\n✅ Final Output in Japanese:\")\n",
    "print(translated_output)"
   ]
  },
  {
   "cell_type": "code",
   "execution_count": 48,
   "id": "032e97bf",
   "metadata": {},
   "outputs": [
    {
     "name": "stdout",
     "output_type": "stream",
     "text": [
      "🔊 Transcribing...\n"
     ]
    },
    {
     "name": "stderr",
     "output_type": "stream",
     "text": [
      "Device set to use cpu\n"
     ]
    },
    {
     "name": "stdout",
     "output_type": "stream",
     "text": [
      "📝 Transcribed Text:  The stale smell of old beer lingers. It takes heat to bring out the odor. A cold dip restores health and zest. A salt pickle tastes fine with ham. Tacos al pastor are my favorite. A zestful food is the hot cross bun.\n",
      "🎤 Transcribed Text:  The stale smell of old beer lingers. It takes heat to bring out the odor. A cold dip restores health and zest. A salt pickle tastes fine with ham. Tacos al pastor are my favorite. A zestful food is the hot cross bun.\n",
      "\n",
      "✅ Final Output in Dutch:\n",
      "De oude geur van oud bier blijft hangen.Er is warmte voor nodig om de geur naar voren te brengen.Een koude dip herstelt de gezondheid en schil.Een zout augurk smaakt prima met ham.Tacos al Pastor is mijn favoriet.Een pittig voedsel is het hete kruisbroodje.\n"
     ]
    }
   ],
   "source": [
    "from googletrans import Translator\n",
    "\n",
    "# Step 1: Transcribe the uploaded audio\n",
    "transcribed_text = transcribe_audio(audio_file)\n",
    "print(\"🎤 Transcribed Text:\", transcribed_text)\n",
    "\n",
    "# Step 2: Translate the text to Dutch\n",
    "translator = Translator()\n",
    "translated_output = translator.translate(transcribed_text, src=\"en\", dest=\"nl\").text\n",
    "\n",
    "# Final Output\n",
    "print(\"\\n✅ Final Output in Dutch:\")\n",
    "print(translated_output)"
   ]
  },
  {
   "cell_type": "code",
   "execution_count": null,
   "id": "156019da",
   "metadata": {},
   "outputs": [],
   "source": []
  },
  {
   "cell_type": "code",
   "execution_count": null,
   "id": "c6983148",
   "metadata": {},
   "outputs": [],
   "source": []
  },
  {
   "cell_type": "markdown",
   "id": "5ad973a7",
   "metadata": {},
   "source": [
    "Hindi to English"
   ]
  },
  {
   "cell_type": "code",
   "execution_count": 48,
   "id": "4fa9187e",
   "metadata": {},
   "outputs": [
    {
     "name": "stdout",
     "output_type": "stream",
     "text": [
      "Current working directory: C:\\Users\\Aswinth\\Desktop\\Model\n"
     ]
    }
   ],
   "source": [
    "import os\n",
    "print(\"Current working directory:\", os.getcwd())"
   ]
  },
  {
   "cell_type": "code",
   "execution_count": 49,
   "id": "ad4239fa",
   "metadata": {},
   "outputs": [
    {
     "name": "stdout",
     "output_type": "stream",
     "text": [
      "✅ File exists: True\n"
     ]
    }
   ],
   "source": [
    "audio_file1 = \"Hindi_audio.wav\"\n",
    "print(\"✅ File exists:\", os.path.exists(audio_file1))"
   ]
  },
  {
   "cell_type": "code",
   "execution_count": 50,
   "id": "694f89ee",
   "metadata": {},
   "outputs": [],
   "source": [
    "import os\n",
    "os.environ[\"USE_TF\"] = \"0\""
   ]
  },
  {
   "cell_type": "code",
   "execution_count": 64,
   "id": "a6322c5e",
   "metadata": {},
   "outputs": [],
   "source": [
    "def transcribe_and_translate(audio_path):\n",
    "    print(\"🌍 Transcribing and Translating Hindi Audio to English...\")\n",
    "    recognizer = pipeline(\n",
    "        \"automatic-speech-recognition\", \n",
    "        model=\"openai/whisper-medium\",  # or use \"openai/whisper-medium\" for better results\n",
    "        tokenizer=\"openai/whisper-small\"\n",
    "    )\n",
    "    result = recognizer(audio_path, return_timestamps=False, generate_kwargs={\"task\": \"translate\"})\n",
    "    print(\"✅ Final English Translation:\", result[\"text\"])\n",
    "    return result[\"text\"]\n"
   ]
  },
  {
   "cell_type": "code",
   "execution_count": 65,
   "id": "b5a45560",
   "metadata": {},
   "outputs": [],
   "source": [
    "from transformers import MarianMTModel, MarianTokenizer\n",
    "\n",
    "def translate_text(text):\n",
    "    print(\"🌐 Translating from Hindi to English...\")\n",
    "    model_name = \"Helsinki-NLP/opus-mt-hi-en\"  # Hindi to English\n",
    "    tokenizer = MarianTokenizer.from_pretrained(model_name)\n",
    "    model = MarianMTModel.from_pretrained(model_name)\n",
    "\n",
    "    encoded = tokenizer([text], return_tensors=\"pt\", padding=True, truncation=True)\n",
    "    translated = model.generate(**encoded)\n",
    "    translated_text = tokenizer.batch_decode(translated, skip_special_tokens=True)[0]\n",
    "\n",
    "    print(\"🌍 Translated English Text:\", translated_text)\n",
    "    return translated_text\n"
   ]
  },
  {
   "cell_type": "code",
   "execution_count": 66,
   "id": "c14f90f3",
   "metadata": {},
   "outputs": [
    {
     "name": "stdout",
     "output_type": "stream",
     "text": [
      "🌍 Transcribing and Translating Hindi Audio to English...\n"
     ]
    },
    {
     "name": "stderr",
     "output_type": "stream",
     "text": [
      "Device set to use cpu\n"
     ]
    },
    {
     "name": "stdout",
     "output_type": "stream",
     "text": [
      "✅ Final English Translation:  After this, we will talk about a player who will be a big hit in the World Cup. I will tell you that he is the player who made his entry in international cricket with a great performance against Australia. From today, we will meet you every day during the World Cup in EAM Cricket World Cup 2007 Update.\n",
      "\n",
      "✅ FINAL OUTPUT:\n",
      " After this, we will talk about a player who will be a big hit in the World Cup. I will tell you that he is the player who made his entry in international cricket with a great performance against Australia. From today, we will meet you every day during the World Cup in EAM Cricket World Cup 2007 Update.\n"
     ]
    }
   ],
   "source": [
    "translated_text = transcribe_and_translate(audio_file1)\n",
    "\n",
    "print(\"\\n✅ FINAL OUTPUT:\")\n",
    "print(translated_text)\n"
   ]
  },
  {
   "cell_type": "code",
   "execution_count": null,
   "id": "536fce61",
   "metadata": {},
   "outputs": [],
   "source": []
  }
 ],
 "metadata": {
  "kernelspec": {
   "display_name": "Python 3 (ipykernel)",
   "language": "python",
   "name": "python3"
  },
  "language_info": {
   "codemirror_mode": {
    "name": "ipython",
    "version": 3
   },
   "file_extension": ".py",
   "mimetype": "text/x-python",
   "name": "python",
   "nbconvert_exporter": "python",
   "pygments_lexer": "ipython3",
   "version": "3.9.7"
  }
 },
 "nbformat": 4,
 "nbformat_minor": 5
}
